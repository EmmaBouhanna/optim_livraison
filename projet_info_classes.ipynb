{
 "cells": [
  {
   "cell_type": "markdown",
   "metadata": {},
   "source": [
    "# Projet info classes"
   ]
  },
  {
   "cell_type": "code",
   "execution_count": null,
   "metadata": {},
   "outputs": [],
   "source": [
    "class Node:\n",
    "    def __init__(self, lat : float, long : float):\n",
    "        self.id = None # retrouver comment faire des identifiants uniques (avec un itérable?)\n",
    "        self.lat = lat\n",
    "        self.long = long\n",
    "        self.children = []  # dico où les cles sont les identifiants, les valeurs [id,  et les valeurs le poids des aretes\n",
    "\n",
    "    def new_child(self, node, vertex_value):  # crée un fils + donnée de sa distance au père\n",
    "        ch = str(node.id)\n",
    "        self.children[ch] = vertex_value\n",
    "        ch2 = str(self.id)\n",
    "        node.children[ch2] = vertex_value # a priori graphe non orienté (OS en premier lieu pas de sens interdits)"
   ]
  },
  {
   "cell_type": "code",
   "execution_count": null,
   "metadata": {},
   "outputs": [],
   "source": [
    "class Client(Node): \n",
    "    def __init__(self, lat : float, long : float, colis : int):\n",
    "        self.id = None # retrouver comment faire des identifiants uniques (avec un itérable?)\n",
    "        self.lat = lat\n",
    "        self.long = long\n",
    "        self.children = []\n",
    "        self.colis = colis # nombre de colis désirés\n",
    "\n",
    "class Entrepot(Node):\n",
    "    def __init__(self, lat : float, long : float, max_camions : int, max_legers : int, capacite : int):\n",
    "        self.id = None # retrouver comment faire des identifiants uniques (avec un itérable?)\n",
    "        self.lat = lat\n",
    "        self.long = long\n",
    "        self.children = []\n",
    "        self.max_camions = max_camions\n",
    "        self.max_legers = max_legers\n",
    "        self.capacite = capacite\n",
    "\n",
    "class Route: # j'aurais tendance à mettre ces infos (enfin etroite uniquement) dans le dico directement\n",
    "    def __init__(self, vitesse, etroite : bool, dist):\n",
    "        self.vitesse = vitesse\n",
    "        self.etroite = etroite\n",
    "        self.dist = dist"
   ]
  },
  {
   "cell_type": "code",
   "execution_count": null,
   "metadata": {},
   "outputs": [],
   "source": [
    "class Vehicule:\n",
    "    def __init__(self, capacite, pollution, dist_max, route_etroite : bool):\n",
    "        self.capacite = capacite\n",
    "        self.pollution = pollution\n",
    "        self.dist_max = dist_max\n",
    "        self.route_etroite = route_etroite\n",
    "        \n",
    "class Camion(Vehicule):\n",
    "    def __init__(self, capacite, pollution, dist_max, route_etroite = False):\n",
    "        self.capacite = capacite\n",
    "        self.pollution = pollution\n",
    "        self.dist_max = dist_max\n",
    "        self.route_etroite = route_etroite\n",
    "        \n",
    "class Leger(Vehicule):\n",
    "    def __init__(self, capacite, pollution = 0, dist_max = 10, route_etroite = True):\n",
    "        self.capacite = capacite\n",
    "        self.pollution = pollution\n",
    "        self.dist_max = dist_max\n",
    "        self.route_etroite = route_etroite    "
   ]
  }
 ],
 "metadata": {
  "kernelspec": {
   "display_name": "Python 3",
   "language": "python",
   "name": "python3"
  },
  "language_info": {
   "codemirror_mode": {
    "name": "ipython",
    "version": 3
   },
   "file_extension": ".py",
   "mimetype": "text/x-python",
   "name": "python",
   "nbconvert_exporter": "python",
   "pygments_lexer": "ipython3",
   "version": "3.7.4"
  }
 },
 "nbformat": 4,
 "nbformat_minor": 2
}
