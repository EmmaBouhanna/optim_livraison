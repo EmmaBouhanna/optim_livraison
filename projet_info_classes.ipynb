{
 "cells": [
  {
   "cell_type": "markdown",
   "metadata": {},
   "source": [
    "# Projet info classes"
   ]
  },
  {
   "cell_type": "code",
   "execution_count": 183,
   "metadata": {},
   "outputs": [],
   "source": [
    "# imports\n",
    "import numpy as np\n",
    "from uuid import uuid4 # pour identifiants uniques générés automatiquement\n",
    "import pygraphviz as pgv\n",
    "from PIL import Image"
   ]
  },
  {
   "cell_type": "code",
   "execution_count": 184,
   "metadata": {},
   "outputs": [],
   "source": [
    "class Node:\n",
    "    def __init__(self, lat : float, long : float):\n",
    "        self.id = uuid4()\n",
    "        self.lat = lat\n",
    "        self.long = long\n",
    "        self.children = []  # dico où les cles sont les identifiants, les valeurs [id,  et les valeurs le poids des aretes\n",
    "    \n",
    "    def dist(node1, node2):\n",
    "        return np.sqrt((node1.lat - node2.lat)**2 +(node1.long - node2.long)**2)\n",
    "    \n",
    "    def new_child(self, node):  # crée un fils \n",
    "        # distance au père est la distance euclidienne\n",
    "        self.children.append(node)\n",
    "    \n",
    "    def __eq__(self, node):\n",
    "        if self.id == node.id:\n",
    "            return True\n",
    "        else:\n",
    "            return False\n",
    "    \n",
    "\n",
    "        "
   ]
  },
  {
   "cell_type": "code",
   "execution_count": 185,
   "metadata": {},
   "outputs": [],
   "source": [
    "class Client(Node): \n",
    "    def __init__(self, lat : float, long : float):\n",
    "        self.id = uuid4()\n",
    "        self.lat = lat\n",
    "        self.long = long\n",
    "        self.children = []\n",
    "        self.str = \"client\"\n",
    "        # self.colis = colis # nombre de colis désirés\n",
    "# probablement inutile ... garder pour représentation graphique??\n",
    "def make_client(lat : float, long : float):\n",
    "    new_client = Client(lat, long)\n",
    "    return new_client\n",
    "    \n",
    "    \n",
    "class Colis(Node):\n",
    "    def __init__(self, size, entrepot: Node, destination):\n",
    "        self.id = uuid4()\n",
    "        self.size = size\n",
    "        self.entrepot = entrepot\n",
    "        self.client = make_client(destination[0], destination[1])\n",
    "        self.children = []\n",
    "        \n",
    "\n",
    "class Garage(Node):\n",
    "    def __init__(self, lat: float, long: float, nb_camions: int, nb_legers: int):\n",
    "        self.id = uuid4()\n",
    "        self.lat = lat\n",
    "        self.long = long\n",
    "        self.nb_camions = nb_camions\n",
    "        self.nb_legers = nb_legers\n",
    "        self.children = []\n",
    "        self.str = \"garage\"\n",
    "\n",
    "class Entrepot(Node):\n",
    "    def __init__(self, lat : float, long : float, max_camions : int, max_legers : int, capacite : int):\n",
    "        self.id = uuid4() # retrouver comment faire des identifiants uniques (avec un itérable?)\n",
    "        self.lat = lat\n",
    "        self.long = long\n",
    "        self.children = []\n",
    "        self.max_camions = max_camions\n",
    "        self.max_legers = max_legers\n",
    "        self.capacite = capacite\n",
    "        self.str = \"entrepot\"\n",
    "\n",
    "class Route: # j'aurais tendance à mettre ces infos (enfin etroite uniquement) dans le dico directement\n",
    "    def __init__(self, vitesse, etroite : bool, dist):\n",
    "        self.vitesse = vitesse # vitesse max autorisée en km/h\n",
    "        self.etroite = etroite\n",
    "        self.dist = dist"
   ]
  },
  {
   "cell_type": "code",
   "execution_count": 186,
   "metadata": {},
   "outputs": [],
   "source": [
    "class Vehicule:\n",
    "    def __init__(self, capacite, pollution, dist_max, temps, route_etroite : bool):\n",
    "        self.capacite = capacite\n",
    "        self.pollution = pollution\n",
    "        self.dist_max = dist_max\n",
    "        self.route_etroite = route_etroite\n",
    "        self.temps = temps # temps du camioneur \n",
    "class Camion(Vehicule):\n",
    "    def __init__(self, capacite, pollution, dist_max, route_etroite = False):\n",
    "        self.capacite = capacite\n",
    "        self.pollution = pollution\n",
    "        self.dist_max = dist_max\n",
    "        self.route_etroite = route_etroite\n",
    "        \n",
    "class Leger(Vehicule):\n",
    "    def __init__(self, capacite, pollution = 0, dist_max = 10, route_etroite = True):\n",
    "        self.capacite = capacite\n",
    "        self.pollution = pollution\n",
    "        self.dist_max = dist_max\n",
    "        self.route_etroite = route_etroite    "
   ]
  },
  {
   "cell_type": "code",
   "execution_count": 226,
   "metadata": {},
   "outputs": [],
   "source": [
    "class Graph:\n",
    "    def __init__(self, garage, entrepots: [Entrepot], points_relais: [Entrepot], colis: [Colis]):\n",
    "        self.garage = garage #la racine \n",
    "        self.entrepots = entrepots # liste des entrepots (fixée)\n",
    "        self.points_relais = points_relais\n",
    "        self.colis = colis # liste des colis à livrer le jour n\n",
    "\n",
    "    def make_graph(self):\n",
    "        # self.graph_list.append(self.garage)\n",
    "        for e in self.entrepots:\n",
    "            self.garage.new_child(e) # arete orientée du garage vers l'entrepot\n",
    "            colis_e = [] # liste des paquets qui partent de e\n",
    "            \n",
    "            for p in self.colis:\n",
    "                if p.entrepot == e:\n",
    "                    colis_e.append(p)\n",
    "            for p in colis_e:\n",
    "                e.new_child(p.client) # arete orientée de l'entrepot vers le client\n",
    "                for pp in colis_e:\n",
    "                    if pp.id != p.id:\n",
    "                        p.new_child(pp.client) # NB: pour le moment on \"perd\" le paquet dans la construction du graphe\n",
    "        \n",
    "        for r in self.points_relais:\n",
    "            for p in self.colis:\n",
    "                if dist(r, p) < 5: # périmètre de 5 km\n",
    "                    r.new_child(p.client)\n",
    "                    p.client.new_child(r)  \n",
    "                    \n",
    "                    \n",
    "    def __repr__(self): # a retravailler\n",
    "        node = self.garage\n",
    "        rep = f\"{node.str}: {self.garage.lat, self.garage.long} \\n | \\n\"\n",
    "        file = []\n",
    "        file.append(node)\n",
    "        while len(file)>0:\n",
    "            print(file)\n",
    "            node = file[0]\n",
    "            children = node.children\n",
    "            ch = \"\"\n",
    "            for c in children[0: len(children)-1]:\n",
    "                ch += c.str + \": \" + f\"{c.lat, c.long}\" + \" - \"\n",
    "                file.append(c)\n",
    "            if len(children) > 0:\n",
    "                file.append(children[len(children)-1])\n",
    "                ch += children[len(children)-1].str + \": \" + f\"{children[len(children)-1].lat, children[len(children)-1].long}\" + \"\\n |\"\n",
    "            rep += ch\n",
    "            file.pop(0)\n",
    "            return rep"
   ]
  },
  {
   "cell_type": "code",
   "execution_count": 230,
   "metadata": {},
   "outputs": [
    {
     "name": "stdout",
     "output_type": "stream",
     "text": [
      "[<__main__.Client object at 0x11a921210>]\n",
      "[]\n"
     ]
    }
   ],
   "source": [
    "# test\n",
    "g = Garage(150, 50, 40, 60)\n",
    "e1 = Entrepot(100, 100, 10, 15, 5000)\n",
    "e2 = Entrepot(200, 100, 20, 10, 4000)\n",
    "p1 = Colis(20, e1, [104, 120])\n",
    "entrepots = [e1, e2]\n",
    "points_relais = []\n",
    "paquets = [p1]\n",
    "G = Graph(g, entrepots, points_relais, paquets)\n",
    "G.make_graph()\n",
    "a = G.garage.children\n",
    "for e in a:\n",
    "    print(e.children)\n"
   ]
  },
  {
   "cell_type": "code",
   "execution_count": null,
   "metadata": {},
   "outputs": [],
   "source": [
    "def trace_graph(graph):\n",
    "    G = pgv.AGraph()\n",
    "    root = graph.garage\n",
    "    G.add_node(root)\n",
    "    \n",
    "    \n",
    "    \n",
    "    G.layout()\n",
    "    G.layout(prog='dot')\n",
    "    G.draw('file.png') \n",
    "    a = Image.open('file.png')\n",
    "    a.show()"
   ]
  },
  {
   "cell_type": "code",
   "execution_count": 221,
   "metadata": {},
   "outputs": [],
   "source": [
    "G = pgv.AGraph()"
   ]
  },
  {
   "cell_type": "code",
   "execution_count": 60,
   "metadata": {},
   "outputs": [],
   "source": [
    "G.add_node(g)"
   ]
  },
  {
   "cell_type": "code",
   "execution_count": 61,
   "metadata": {},
   "outputs": [],
   "source": [
    "G.write(\"file.dot\")\n"
   ]
  },
  {
   "cell_type": "code",
   "execution_count": null,
   "metadata": {},
   "outputs": [],
   "source": []
  }
 ],
 "metadata": {
  "kernelspec": {
   "display_name": "Python 3",
   "language": "python",
   "name": "python3"
  },
  "language_info": {
   "codemirror_mode": {
    "name": "ipython",
    "version": 3
   },
   "file_extension": ".py",
   "mimetype": "text/x-python",
   "name": "python",
   "nbconvert_exporter": "python",
   "pygments_lexer": "ipython3",
   "version": "3.7.4"
  }
 },
 "nbformat": 4,
 "nbformat_minor": 2
}
