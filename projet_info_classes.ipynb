{
 "cells": [
  {
   "cell_type": "markdown",
   "metadata": {},
   "source": [
    "# Projet info classes"
   ]
  },
  {
   "cell_type": "code",
   "execution_count": 1,
   "metadata": {},
   "outputs": [],
   "source": [
    "# imports\n",
    "import numpy as np\n",
    "from uuid import uuid4 # pour identifiants uniques générés automatiquement\n",
    "import pygraphviz as pgv\n",
    "from PIL import Image\n",
    "import csv\n",
    "import pandas as pd  "
   ]
  },
  {
   "cell_type": "code",
   "execution_count": 2,
   "metadata": {},
   "outputs": [],
   "source": [
    "import numpy as np"
   ]
  },
  {
   "cell_type": "code",
   "execution_count": 3,
   "metadata": {},
   "outputs": [],
   "source": [
    "class Node:\n",
    "    def __init__(self, lat : float, long : float):\n",
    "        self.id = uuid4()\n",
    "        self.lat = lat\n",
    "        self.long = long\n",
    "        self.children = []  # dico où les cles sont les identifiants, les valeurs [id,  et les valeurs le poids des aretes\n",
    "    \n",
    "    \n",
    "    def new_child(self, node):  # crée un fils \n",
    "        # distance au père est la distance euclidienne\n",
    "        self.children.append(node)\n",
    "    \n",
    "    def __eq__(self, node):\n",
    "        if self.id == node.id:\n",
    "            return True\n",
    "        else:\n",
    "            return False\n",
    "    \n",
    "def dist(node1, node2):\n",
    "        return np.sqrt((node1.lat - node2.lat)**2 +(node1.long - node2.long)**2)\n",
    "        "
   ]
  },
  {
   "cell_type": "code",
   "execution_count": 4,
   "metadata": {},
   "outputs": [],
   "source": [
    "class Client(Node): \n",
    "    def __init__(self, lat : float, long : float, size = None): # pour le moment 1 colis par client!!!\n",
    "        self.id = uuid4()\n",
    "        self.lat = lat\n",
    "        self.long = long\n",
    "        self.taille_colis = size\n",
    "        self.children = []\n",
    "        self.str = \"client\"\n",
    "    \n",
    "def make_client(lat : float, long : float, size: int):\n",
    "    new_client = Client(lat, long, size)\n",
    "    return new_client\n",
    "    \n",
    "    \n",
    "class Colis(Node):\n",
    "    def __init__(self, size, entrepot: Node, destination):\n",
    "        self.id = uuid4()\n",
    "        self.size = size\n",
    "        self.entrepot = entrepot\n",
    "        self.client = make_client(destination[0], destination[1], size)\n",
    "        self.children = []\n",
    "        \n",
    "\n",
    "class Garage(Node):\n",
    "    def __init__(self, lat: float, long: float, nb_camions: int, nb_legers: int):\n",
    "        self.id = uuid4()\n",
    "        self.lat = lat\n",
    "        self.long = long\n",
    "        self.nb_camions = nb_camions\n",
    "        self.nb_legers = nb_legers\n",
    "        self.children = []\n",
    "        self.str = \"garage\"\n",
    "\n",
    "class Entrepot(Node):\n",
    "    def __init__(self, lat : float, long : float, max_camions : int, max_legers : int, capacite : int):\n",
    "        self.id = uuid4() # retrouver comment faire des identifiants uniques (avec un itérable?)\n",
    "        self.lat = lat\n",
    "        self.long = long\n",
    "        self.children = []\n",
    "        self.max_camions = max_camions\n",
    "        self.max_legers = max_legers\n",
    "        self.capacite = capacite\n",
    "        self.str = \"entrepot\"\n",
    "\n",
    "class Route: # j'aurais tendance à mettre ces infos (enfin etroite uniquement) dans le dico directement\n",
    "    def __init__(self, vitesse, etroite : bool, dist):\n",
    "        self.vitesse = vitesse # vitesse max autorisée en km/h\n",
    "        self.etroite = etroite\n",
    "        self.dist = dist"
   ]
  },
  {
   "cell_type": "code",
   "execution_count": 5,
   "metadata": {},
   "outputs": [],
   "source": [
    "class Vehicule:\n",
    "    def __init__(self, capacite, pollution, dist_max, temps, route_etroite : bool):\n",
    "        self.capacite = capacite\n",
    "        self.pollution = pollution\n",
    "        self.dist_max = dist_max\n",
    "        self.route_etroite = route_etroite\n",
    "        self.temps = temps # temps du camioneur \n",
    "class Camion(Vehicule):\n",
    "    def __init__(self, capacite, pollution, dist_max, route_etroite = False):\n",
    "        self.capacite = capacite\n",
    "        self.pollution = pollution\n",
    "        self.dist_max = dist_max\n",
    "        self.route_etroite = route_etroite\n",
    "        \n",
    "class Leger(Vehicule):\n",
    "    def __init__(self, capacite, pollution = 0, dist_max = 10, route_etroite = True):\n",
    "        self.capacite = capacite\n",
    "        self.pollution = pollution\n",
    "        self.dist_max = dist_max\n",
    "        self.route_etroite = route_etroite    "
   ]
  },
  {
   "cell_type": "markdown",
   "metadata": {},
   "source": [
    "### Construction du graphe\n",
    "\n",
    "+ Tous les noeuds peuvent etre obtenus en descendant depuis la racine (garage) vers ses enfants successifs\n",
    "+ Il y a 3 types de noeuds (générations): \n",
    "    * garage \n",
    "    * entrepots \n",
    "    * points relais\n",
    "    \n",
    "On fait les hypothèses suivantes:\n",
    "+ Il y a un seul garage depuis lequel partent tous les véhicules\n",
    "+ Les véhicules se répartissent selon les $K$ entrepots en respectant le nombre max de véhicules de ces derniers\n",
    "+ Pour un entrepot donné, les véhicules ne desservent que les clients dont les colis sont dans cet entrepot. Ainsi, si on oublie la racine, on a un graphe non connexe composé de plusieurs sous-graphes correspondant aux ensembles (entrepot $k$ - clients de l'entrepot $k$). Le pb revient donc à optimiser chacun de ces sous-graphes, indépendamment les uns des autres si la flotte de véhicules est importante (supérieure ou égale à la somme des véhicules max des entrepots).\n",
    "+ Le véhicule prend tout son stock pour la journée et ne repasse pas par l'entrepot (arete orientée). Il peut aller directement de l'entrepot vers chacun des clients.\n",
    "+ Le véhicule peut aller d'un client à l'autre (aretes non orientées)"
   ]
  },
  {
   "cell_type": "code",
   "execution_count": 6,
   "metadata": {},
   "outputs": [],
   "source": [
    "class Graph:\n",
    "    def __init__(self, garage, entrepots: [Entrepot], points_relais: [Entrepot], colis: [Colis]):\n",
    "        self.garage = garage #la racine \n",
    "        self.entrepots = entrepots # liste des entrepots (fixée)\n",
    "        self.points_relais = points_relais\n",
    "        self.colis = colis # liste des colis à livrer le jour n\n",
    "\n",
    "    def make_graph(self):\n",
    "        # self.graph_list.append(self.garage)\n",
    "        for e in self.entrepots:\n",
    "            self.garage.new_child(e) # arete orientée du garage vers l'entrepot\n",
    "            colis_e = [] # liste des paquets qui partent de e\n",
    "            for p in self.colis:\n",
    "                if p.entrepot == e:\n",
    "                    colis_e.append(p)\n",
    "            for p in colis_e:\n",
    "                e.new_child(p.client) # arete orientée de l'entrepot vers le client\n",
    "                for pp in colis_e:\n",
    "                    if pp.id != p.id:\n",
    "                        p.client.new_child(pp.client) # NB: pour le moment on \"perd\" le paquet dans la construction du graphe\n",
    "        \n",
    "        for r in self.points_relais:\n",
    "            for p in self.colis:\n",
    "                if dist(r, p) < 5: # périmètre de 5 km\n",
    "                    r.new_child(p.client)\n",
    "                    p.client.new_child(r)  \n",
    "    \n",
    "    \n",
    "    def generate_csv(self):\n",
    "        numero = 1\n",
    "        file_names = [] \n",
    "        for e in self.entrepots:\n",
    "            csv_entrepot(e, numero)\n",
    "            name = \"entrepot_\"+str(numero)+\".csv\"\n",
    "            file_names.append(name)\n",
    "            numero += 1\n",
    "        return file_names\n",
    "\n",
    "def csv_entrepot(e, numero: int):\n",
    "    # L est une liste de listes\n",
    "    L = []\n",
    "    # 1èr élément de la liste correspond aux données de l'entrepot\n",
    "    l = [e.id, e.capacite, e.max_camions, 0]\n",
    "    tree_nodes = [e]+e.children\n",
    "    for n in tree_nodes:\n",
    "        l.append(dist(e, n))\n",
    "    L.append(l)\n",
    "    # les autres éléments de L correspondent aux données des clients de l'entrepot\n",
    "    for client in e.children:\n",
    "        l = [client.id, e.capacite, e.max_camions, client.taille_colis]\n",
    "        for n in tree_nodes:\n",
    "            l.append(dist(client, n)) # convention: route du noeud client vers l'autre noeud\n",
    "        L.append(l)\n",
    "    names = [\"Identifiant\", \"Capacite\", \"Vehicules_max\", \"Demande\", \"entrepot\"]\n",
    "    tree_nodes.pop(0)\n",
    "    for i in range(len(e.children)):\n",
    "        ch = \"client \"+ str(i+1)\n",
    "        names.append(ch)\n",
    "    df = pd.DataFrame(L, columns = names)\n",
    "    name = \"entrepot_\"+str(numero)+\".csv\"\n",
    "    csv = df.to_csv(name)\n",
    "    return csv"
   ]
  },
  {
   "cell_type": "code",
   "execution_count": 7,
   "metadata": {},
   "outputs": [],
   "source": [
    "def trace_graph(graph):\n",
    "    G = pgv.AGraph(directed = True)\n",
    "    root = graph.garage\n",
    "    #G.add_node(root)\n",
    "    file = [root]\n",
    "    while len(file) >0:\n",
    "        if isinstance(file[0], Garage):\n",
    "            G.add_node(file[0], color = \"black\")\n",
    "        if isinstance(file[0], Entrepot):\n",
    "            G.add_node(file[0], color = \"blue\")\n",
    "        if isinstance(file[0], Client):\n",
    "            G.add_node(file[0], color = \"pink\")\n",
    "        for c in file[0].children:\n",
    "            if len(c.children)>0 and (file[0] in c.children):\n",
    "                G.add_edge(file[0], c, color = \"orange\", label = str(round(dist(file[0], c), 1)))\n",
    "                # G.add_edge(c, file[0], color = \"orange\")\n",
    "\n",
    "            if len(c.children) > 0 and (file[0] in c.children) == False:\n",
    "                G.add_edge(file[0], c, color = \"blue\", label = str(round(dist(file[0], c), 1)))\n",
    "                file.append(c)\n",
    "            if len(c.children) == 0:\n",
    "                G.add_edge(file[0], c, color = \"blue\", label = str(round(dist(file[0], c), 1)))\n",
    "                file.append(c)   \n",
    "        file.pop(0)\n",
    "    \n",
    "    G.layout(prog='dot')\n",
    "    G.draw('file.png') \n",
    "    a = Image.open('file.png')\n",
    "    a.show()"
   ]
  },
  {
   "cell_type": "code",
   "execution_count": 12,
   "metadata": {},
   "outputs": [
    {
     "data": {
      "text/plain": [
       "['entrepot_1.csv', 'entrepot_2.csv', 'entrepot_3.csv']"
      ]
     },
     "execution_count": 12,
     "metadata": {},
     "output_type": "execute_result"
    }
   ],
   "source": [
    "g = Garage (150, 50, 40, 60)\n",
    "e1 = Entrepot (100, 100, 10, 15, 5000)\n",
    "e2 = Entrepot (200, 100, 20, 10, 4000)\n",
    "e3 = Entrepot (100, 300, 15, 15, 4000)\n",
    "p1 = Colis (20, e1, [104, 120])\n",
    "p2 = Colis (30, e1, [104, 135])\n",
    "p3 = Colis (15, e2, [100, 135])\n",
    "p4 = Colis (23, e2, [103, 123])\n",
    "p5 = Colis (12, e1, [112, 122])\n",
    "p6 = Colis (13, e1, [107, 108])\n",
    "p7 = Colis (25, e3, [133, 123])\n",
    "entrepots = [e1, e2, e3]\n",
    "points_relais = []\n",
    "paquets = [p1, p2, p3, p4, p5, p6, p7]\n",
    "G = Graph(g, entrepots, points_relais, paquets)\n",
    "G.make_graph()\n",
    "G.garage.children[0].children\n",
    "trace_graph(G)\n",
    "file_names = G.generate_csv()\n",
    "file_names"
   ]
  },
  {
   "cell_type": "markdown",
   "metadata": {},
   "source": [
    "Coucou Sophie c'est Emma je t'explique ce qu'il me faut hihi\n"
   ]
  },
  {
   "cell_type": "markdown",
   "metadata": {},
   "source": [
    "Mon algo s'applique à un entrepot en particulier, il faudrait donc que je puisse le faire tourner n fois (ou n est le nombre d'entrepots). Pour ça j'aurais besoin d'un fichier d'entrée csv qui ressemble à ça :"
   ]
  },
  {
   "cell_type": "code",
   "execution_count": 9,
   "metadata": {},
   "outputs": [],
   "source": [
    "import pandas as pd\n",
    "exemple = pd.read_csv('exemple.txt', sep='\\t')"
   ]
  },
  {
   "cell_type": "code",
   "execution_count": 26,
   "metadata": {},
   "outputs": [
    {
     "name": "stdout",
     "output_type": "stream",
     "text": [
      "   CUST ID  CAPACITY  VEHICLE_NUMBER  DEMAND     0     1     2       3\n",
      "0        0       200              25       0     0  dist  dist    dist\n",
      "1        1       200              25      10  dist     0  dist  dist  \n",
      "2        2       200              25      30   NaN   NaN   NaN     NaN\n",
      "3        3       200              25      10   NaN   NaN   NaN     NaN\n",
      "4        4       200              25      10   NaN   NaN   NaN     NaN\n"
     ]
    },
    {
     "data": {
      "text/plain": [
       "'dist'"
      ]
     },
     "execution_count": 26,
     "metadata": {},
     "output_type": "execute_result"
    }
   ],
   "source": [
    "print(exemple.head())\n",
    "exemple['0'][1]"
   ]
  },
  {
   "cell_type": "markdown",
   "metadata": {},
   "source": [
    "Alors je t'explique les notations:\n",
    "- le cust_id c'est le numéro du client qu'on renumérote de 0 à n et 0 c'est l'entrepot à partir duquel partent tous les colis qui lui sont rattachés.\n",
    "\n",
    "- la capacity = c'est la même pour tous les camions !\n",
    "\n",
    "- le vehicle number : c'est le nombre maximum de camions qui partent de l'entrepot\n",
    "\n",
    "- et après le 0, 1, 2, 3 ça va correspondre à la matrice des distances entre les différents clients (et avec l'entrepot bien sur)!\n"
   ]
  },
  {
   "cell_type": "markdown",
   "metadata": {},
   "source": [
    "Est ce que tu penses que c'est bof comme truc? J'aimerais faire la chose la plus simple en fait"
   ]
  }
 ],
 "metadata": {
  "kernelspec": {
   "display_name": "Python 3",
   "language": "python",
   "name": "python3"
  },
  "language_info": {
   "codemirror_mode": {
    "name": "ipython",
    "version": 3
   },
   "file_extension": ".py",
   "mimetype": "text/x-python",
   "name": "python",
   "nbconvert_exporter": "python",
   "pygments_lexer": "ipython3",
   "version": "3.7.6"
  }
 },
 "nbformat": 4,
 "nbformat_minor": 2
}
