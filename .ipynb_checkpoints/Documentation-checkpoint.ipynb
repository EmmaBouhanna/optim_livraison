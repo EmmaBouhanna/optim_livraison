{
 "cells": [
  {
   "cell_type": "markdown",
   "metadata": {},
   "source": [
    "# Projet informatique - Optimisation d'un réseau de livraison\n",
    "\n",
    "## Bou Hanna Emma, Clodion Sandra, Rossi Sophie"
   ]
  },
  {
   "cell_type": "markdown",
   "metadata": {},
   "source": [
    "### Introduction"
   ]
  },
  {
   "cell_type": "markdown",
   "metadata": {},
   "source": [
    "#### Compréhension du sujet\n",
    "\n",
    "   Un réseau de livraison est un système très complexe dans lequel interagissent de nombreux acteurs (clients, vendeurs, transporteurs …) et qui peut être plus ou moins étendu (échelle d’une commune, d’une ville, d’un pays …). Selon l’échelle prise en compte, les routes sont de taille différente et permettent ou pas le passage de camions: par exemple, dans les centres villes on peut imaginer une livraison par bicyclette. Ainsi, il y a différentes étapes dans le transport d’un colis qui passe par plusieurs entrepôts pour enfin être livré au client. \n",
    " \n",
    "   Nos encadrants ont bien insisté sur la complexité du problème et nous ont incitées à regarder tous les paramètres à prendre en compte ainsi que les enjeux liés à la livraison de marchandises (délais, pollution).\n",
    " \n",
    "   La question de l’optimisation d’un réseau de livraison se présente donc comme non triviale, car il faut tout d’abord savoir ce que l’on cherche à optimiser! Idéalement, afin de “résoudre” au mieux tous les problèmes que l’on peut rencontrer lors de la livraison d’un colis, il faudrait que notre modèle puisse:\n",
    "    \n",
    "    - Minimiser la distance parcourue \n",
    "\n",
    "    - Minimiser les délais de livraison\n",
    "    - Maximiser le stockage des camions et minimiser celui des entrepôts \n",
    "    - Prendre en compte le trafic, la taille des routes, la taille des camions\n",
    "    - Prendre en compte les horaires des conducteurs\n",
    "\n",
    "   De plus, le modèle doit être suffisamment dynamique pour pouvoir s’adapter à de nouvelles situations: on peut vouloir changer le nombre de véhicules ou le nombre d’entrepôts. De même, certaines entreprises mutualisent leurs véhicules ou leurs entrepôts. \n",
    " \n",
    "   Or, nous ne pouvons prendre en compte tous ces paramètres: il nous faut alors choisir ceux qui nous paraissent les plus pertinents et définir un cadre d’étude bien précis. L’idée est de réaliser un modèle simple et qui fonctionne, et de le complexifier progressivement en ajoutant de nouveaux paramètres ou acteurs.\n",
    "\n",
    "\n"
   ]
  },
  {
   "cell_type": "code",
   "execution_count": null,
   "metadata": {},
   "outputs": [],
   "source": []
  }
 ],
 "metadata": {
  "kernelspec": {
   "display_name": "Python 3",
   "language": "python",
   "name": "python3"
  },
  "language_info": {
   "codemirror_mode": {
    "name": "ipython",
    "version": 3
   },
   "file_extension": ".py",
   "mimetype": "text/x-python",
   "name": "python",
   "nbconvert_exporter": "python",
   "pygments_lexer": "ipython3",
   "version": "3.7.6"
  }
 },
 "nbformat": 4,
 "nbformat_minor": 4
}
