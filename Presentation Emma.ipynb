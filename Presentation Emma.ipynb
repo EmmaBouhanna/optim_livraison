{
 "cells": [
  {
   "cell_type": "markdown",
   "metadata": {
    "slideshow": {
     "slide_type": "slide"
    }
   },
   "source": [
    "## Etape 3 : Implémentation d'un algorithme génétique pour optimiser un réseau de livraison en Ile de France\n",
    "\n",
    "+ creation du module `optim_gen`\n",
    "+ Fonctions principales :\n",
    "    + `no_client_to_deliver`\n",
    "    + `one_client_to_deliver`\n",
    "    + `run_vrptw`\n",
    "    + `decode_to_GPS`\n",
    "    + `simulation_vrptw`\n"
   ]
  },
  {
   "cell_type": "code",
   "execution_count": 14,
   "metadata": {
    "slideshow": {
     "slide_type": "fragment"
    }
   },
   "outputs": [],
   "source": [
    "from IPython.display import Image\n",
    "import os\n",
    "import pandas as pd\n",
    "os.chdir(\"C:\\Didou\\Pro\\devoirs\\Mines\\Projet info S2\\optim_livraison\\images\")"
   ]
  },
  {
   "cell_type": "markdown",
   "metadata": {
    "slideshow": {
     "slide_type": "slide"
    }
   },
   "source": [
    "## Fonctionnement de l'algorithme génétique\n",
    "\n",
    "+ Création d'un individu : liste ordonnée de clients à visiter par l'ensemble des camions de l'entrepot, que l'on peut décoder à l'aide d'une matrice de coût temporel\n",
    "+ Définition d'une population initiale constituée de 100 individus\n",
    "+ Choix d'un nombre de *générations*, qui correspondent chacune à une étape de l'évolution\n",
    "+ Définition d'un coût associé à chaque individu, que l'on cherchera à minimiser par la suite"
   ]
  },
  {
   "cell_type": "code",
   "execution_count": 1,
   "metadata": {
    "slideshow": {
     "slide_type": "fragment"
    }
   },
   "outputs": [
    {
     "name": "stdout",
     "output_type": "stream",
     "text": [
      "individu : [1, 2, 3, 4]\n",
      "après décodage, grâce à la matrice des coûts : [[0, 1, 2, 0], [0, 3, 0], [0, 4, 0]]\n"
     ]
    }
   ],
   "source": [
    "# exemple d'un individu décodé en route\n",
    "print(f'individu : {[1,2,3,4]}')\n",
    "print(f'après décodage, grâce à la matrice des coûts : {[[0,1,2,0], [0,3,0], [0,4,0]]}')"
   ]
  },
  {
   "cell_type": "markdown",
   "metadata": {
    "slideshow": {
     "slide_type": "slide"
    }
   },
   "source": [
    "## Etapes de l'évolution\n",
    "\n",
    "+ mutations par substitution uniquement (on n'autorise que les transformations de type permutation)\n",
    "+ crossover entre deux individus"
   ]
  },
  {
   "cell_type": "code",
   "execution_count": null,
   "metadata": {
    "slideshow": {
     "slide_type": "fragment"
    }
   },
   "outputs": [],
   "source": [
    "# un exemple de mutation\n",
    "import random\n",
    "def mut_inverse_indexes(individual):\n",
    "    '''\n",
    "    Step of genetic algorithm : Mutation (only by inversion, to keep the unicity of each occurence) . No insertion or deletion allowed\n",
    "\n",
    "    Input : individual (list)\n",
    "    Output : mutated individual\n",
    "    '''\n",
    "\n",
    "    start, stop = sorted(random.sample(range(len(individual)), 2))\n",
    "    print(f\"indices d'inversion : {start, stop}\")\n",
    "    individual = individual[:start+1] + individual[stop:start:-1] + individual[stop+1:]\n",
    "    return (individual, )\n",
    "print(f\"avant mutation :{[1,2,3,4,5,6,7,8,9]}\")\n",
    "print(f\"après mutation : {mut_inverse_indexes([1,2,3,4,5,6,7,8,9])}\")\n"
   ]
  },
  {
   "cell_type": "code",
   "execution_count": null,
   "metadata": {
    "slideshow": {
     "slide_type": "fragment"
    }
   },
   "outputs": [],
   "source": [
    "#exemple de crossover\n",
    "\n",
    "def cx_partialy_matched(ind1, ind2):\n",
    "    '''\n",
    "    Step of the genetic algorithm : crossover\n",
    "\n",
    "    Input : two individuals (list)\n",
    "    Output : two individuals that have been modified\n",
    "    '''\n",
    "    size = min(len(ind1), len(ind2))\n",
    "    try:\n",
    "        cxpoint1, cxpoint2 = sorted(random.sample(range(size), 2))\n",
    "        print(f\"les indices de début et de fin sont : {cxpoint1, cxpoint2}\")\n",
    "    except ValueError:\n",
    "        print('Error : Only one package to deliver')\n",
    "    temp1 = ind1[cxpoint1:cxpoint2+1] + ind2\n",
    "    temp2 = ind2[cxpoint1:cxpoint2+1] + ind1\n",
    "    ind1 = []\n",
    "    for gene in temp1:\n",
    "        if gene not in ind1:\n",
    "            ind1.append(gene)\n",
    "    ind2 = []\n",
    "    for gene in temp2:\n",
    "        if gene not in ind2:\n",
    "            ind2.append(gene)\n",
    "    return ind1, ind2\n",
    "\n",
    "print(f\"avant crossover :{[1,4,3,6,5,2], [4,3,5,2,6,1]}\")\n",
    "print(f\"après mutation : {cx_partialy_matched([1,4,3,6,5,2], [4,3,5,2,6,1])}\")\n"
   ]
  },
  {
   "cell_type": "markdown",
   "metadata": {
    "slideshow": {
     "slide_type": "slide"
    }
   },
   "source": [
    "## Simulation et optimisation d'un réseau de livraison\n",
    "\n",
    "Les fonctions décrites par la suite sont des étapes de la fonction __simulation_vrptw__\n",
    "\n",
    "+ Utilisation de la classe `Graphe` précédemment construite pour générer des fichiers csv correspondant chacun à l'ensemble des clients reliés à un entrepot et à leur demande pour un jour fixé. "
   ]
  },
  {
   "cell_type": "code",
   "execution_count": 15,
   "metadata": {
    "slideshow": {
     "slide_type": "fragment"
    }
   },
   "outputs": [
    {
     "data": {
      "text/html": [
       "<div>\n",
       "<style scoped>\n",
       "    .dataframe tbody tr th:only-of-type {\n",
       "        vertical-align: middle;\n",
       "    }\n",
       "\n",
       "    .dataframe tbody tr th {\n",
       "        vertical-align: top;\n",
       "    }\n",
       "\n",
       "    .dataframe thead th {\n",
       "        text-align: right;\n",
       "    }\n",
       "</style>\n",
       "<table border=\"1\" class=\"dataframe\">\n",
       "  <thead>\n",
       "    <tr style=\"text-align: right;\">\n",
       "      <th></th>\n",
       "      <th>Identifiant</th>\n",
       "      <th>Demande</th>\n",
       "      <th>latitude</th>\n",
       "      <th>longitude</th>\n",
       "      <th>entrepot</th>\n",
       "      <th>client 1</th>\n",
       "      <th>client 2</th>\n",
       "      <th>client 3</th>\n",
       "      <th>client 4</th>\n",
       "      <th>client 5</th>\n",
       "    </tr>\n",
       "  </thead>\n",
       "  <tbody>\n",
       "    <tr>\n",
       "      <th>0</th>\n",
       "      <td>13</td>\n",
       "      <td>0.00</td>\n",
       "      <td>48.949716</td>\n",
       "      <td>2.286061</td>\n",
       "      <td>0.0</td>\n",
       "      <td>1932.0</td>\n",
       "      <td>4358.0</td>\n",
       "      <td>1276.0</td>\n",
       "      <td>2274.0</td>\n",
       "      <td>2423.0</td>\n",
       "    </tr>\n",
       "    <tr>\n",
       "      <th>1</th>\n",
       "      <td>24</td>\n",
       "      <td>0.62</td>\n",
       "      <td>49.058459</td>\n",
       "      <td>1.930484</td>\n",
       "      <td>1925.0</td>\n",
       "      <td>0.0</td>\n",
       "      <td>5693.0</td>\n",
       "      <td>2565.0</td>\n",
       "      <td>3609.0</td>\n",
       "      <td>3694.0</td>\n",
       "    </tr>\n",
       "    <tr>\n",
       "      <th>2</th>\n",
       "      <td>35</td>\n",
       "      <td>0.12</td>\n",
       "      <td>48.821412</td>\n",
       "      <td>3.137188</td>\n",
       "      <td>4285.0</td>\n",
       "      <td>5729.0</td>\n",
       "      <td>0.0</td>\n",
       "      <td>4007.0</td>\n",
       "      <td>4015.0</td>\n",
       "      <td>3819.0</td>\n",
       "    </tr>\n",
       "    <tr>\n",
       "      <th>3</th>\n",
       "      <td>52</td>\n",
       "      <td>0.54</td>\n",
       "      <td>48.835034</td>\n",
       "      <td>2.247933</td>\n",
       "      <td>1278.0</td>\n",
       "      <td>2405.0</td>\n",
       "      <td>4015.0</td>\n",
       "      <td>0.0</td>\n",
       "      <td>2641.0</td>\n",
       "      <td>1320.0</td>\n",
       "    </tr>\n",
       "    <tr>\n",
       "      <th>4</th>\n",
       "      <td>54</td>\n",
       "      <td>0.59</td>\n",
       "      <td>49.073293</td>\n",
       "      <td>2.672739</td>\n",
       "      <td>2232.0</td>\n",
       "      <td>3677.0</td>\n",
       "      <td>4053.0</td>\n",
       "      <td>2605.0</td>\n",
       "      <td>0.0</td>\n",
       "      <td>2945.0</td>\n",
       "    </tr>\n",
       "    <tr>\n",
       "      <th>5</th>\n",
       "      <td>63</td>\n",
       "      <td>0.86</td>\n",
       "      <td>48.739799</td>\n",
       "      <td>2.397568</td>\n",
       "      <td>2413.0</td>\n",
       "      <td>3589.0</td>\n",
       "      <td>3792.0</td>\n",
       "      <td>1351.0</td>\n",
       "      <td>2921.0</td>\n",
       "      <td>0.0</td>\n",
       "    </tr>\n",
       "  </tbody>\n",
       "</table>\n",
       "</div>"
      ],
      "text/plain": [
       "   Identifiant  Demande   latitude  longitude  entrepot  client 1  client 2  \\\n",
       "0           13     0.00  48.949716   2.286061       0.0    1932.0    4358.0   \n",
       "1           24     0.62  49.058459   1.930484    1925.0       0.0    5693.0   \n",
       "2           35     0.12  48.821412   3.137188    4285.0    5729.0       0.0   \n",
       "3           52     0.54  48.835034   2.247933    1278.0    2405.0    4015.0   \n",
       "4           54     0.59  49.073293   2.672739    2232.0    3677.0    4053.0   \n",
       "5           63     0.86  48.739799   2.397568    2413.0    3589.0    3792.0   \n",
       "\n",
       "   client 3  client 4  client 5  \n",
       "0    1276.0    2274.0    2423.0  \n",
       "1    2565.0    3609.0    3694.0  \n",
       "2    4007.0    4015.0    3819.0  \n",
       "3       0.0    2641.0    1320.0  \n",
       "4    2605.0       0.0    2945.0  \n",
       "5    1351.0    2921.0       0.0  "
      ]
     },
     "execution_count": 15,
     "metadata": {},
     "output_type": "execute_result"
    }
   ],
   "source": [
    "# entrepot 13\n",
    "inputdata = pd.read_csv('exemple_simul_3_input.csv')\n",
    "inputdata.drop('Unnamed: 0', 1, inplace=True)\n",
    "inputdata"
   ]
  },
  {
   "cell_type": "markdown",
   "metadata": {
    "slideshow": {
     "slide_type": "slide"
    }
   },
   "source": [
    "+ Fonction `no_client_to_deliver` pour enlever les dataframes inutiles\n",
    "+ Fonction `one_client_to_deliver` pour traiter séparément les cas où il n'y a qu'un seul client à livrer dans l'entrepot i\n",
    "\n",
    "+ Utilisation de notre algorithme génétique\n",
    "+ Fonction `decode_to_GPS` pour exporter les résultats."
   ]
  },
  {
   "cell_type": "markdown",
   "metadata": {
    "slideshow": {
     "slide_type": "subslide"
    }
   },
   "source": [
    "Exemple : pour l'entrepot 19, on obtient après évolution génétique un coût minimal de 2.26h de trajet total.\n",
    "\n",
    "L'entrepot 19 étant le dernier à avoir été traité, on obtient par la suite les indivdus décodés en route pour chaque entrepot où il y a au minimum deux clients à livrer."
   ]
  },
  {
   "cell_type": "code",
   "execution_count": 16,
   "metadata": {
    "slideshow": {
     "slide_type": "fragment"
    }
   },
   "outputs": [
    {
     "data": {
      "image/png": "[encoded data removed]",
      "text/plain": [
       "<IPython.core.display.Image object>"
      ]
     },
     "execution_count": 16,
     "metadata": {},
     "output_type": "execute_result"
    }
   ],
   "source": [
    "Image(filename = 'simul_3.png')"
   ]
  },
  {
   "cell_type": "markdown",
   "metadata": {
    "slideshow": {
     "slide_type": "subslide"
    }
   },
   "source": [
    "Les résultats pour chaque entrepot sont exportés sous forme de fichiers csv dans un dossier output_data.\n",
    "Par exemple, pour l'entrepot 13 de la simulation, on obtient un Dataframe de ce type:"
   ]
  },
  {
   "cell_type": "code",
   "execution_count": 17,
   "metadata": {
    "slideshow": {
     "slide_type": "fragment"
    }
   },
   "outputs": [
    {
     "data": {
      "text/html": [
       "<div>\n",
       "<style scoped>\n",
       "    .dataframe tbody tr th:only-of-type {\n",
       "        vertical-align: middle;\n",
       "    }\n",
       "\n",
       "    .dataframe tbody tr th {\n",
       "        vertical-align: top;\n",
       "    }\n",
       "\n",
       "    .dataframe thead th {\n",
       "        text-align: right;\n",
       "    }\n",
       "</style>\n",
       "<table border=\"1\" class=\"dataframe\">\n",
       "  <thead>\n",
       "    <tr style=\"text-align: right;\">\n",
       "      <th></th>\n",
       "      <th>camion1</th>\n",
       "      <th>camion2</th>\n",
       "      <th>camion3</th>\n",
       "      <th>camion4</th>\n",
       "    </tr>\n",
       "  </thead>\n",
       "  <tbody>\n",
       "    <tr>\n",
       "      <th>0</th>\n",
       "      <td>13.0</td>\n",
       "      <td>13.0</td>\n",
       "      <td>13.0</td>\n",
       "      <td>13.0</td>\n",
       "    </tr>\n",
       "    <tr>\n",
       "      <th>1</th>\n",
       "      <td>52.0</td>\n",
       "      <td>63.0</td>\n",
       "      <td>24.0</td>\n",
       "      <td>54.0</td>\n",
       "    </tr>\n",
       "    <tr>\n",
       "      <th>2</th>\n",
       "      <td>13.0</td>\n",
       "      <td>13.0</td>\n",
       "      <td>13.0</td>\n",
       "      <td>35.0</td>\n",
       "    </tr>\n",
       "    <tr>\n",
       "      <th>3</th>\n",
       "      <td>NaN</td>\n",
       "      <td>NaN</td>\n",
       "      <td>NaN</td>\n",
       "      <td>13.0</td>\n",
       "    </tr>\n",
       "  </tbody>\n",
       "</table>\n",
       "</div>"
      ],
      "text/plain": [
       "   camion1  camion2  camion3  camion4\n",
       "0     13.0     13.0     13.0     13.0\n",
       "1     52.0     63.0     24.0     54.0\n",
       "2     13.0     13.0     13.0     35.0\n",
       "3      NaN      NaN      NaN     13.0"
      ]
     },
     "execution_count": 17,
     "metadata": {},
     "output_type": "execute_result"
    }
   ],
   "source": [
    "res_entrepot = pd.read_csv('exemple_simul_3.csv')\n",
    "res_entrepot.drop('Unnamed: 0', 1, inplace = True)\n",
    "res_entrepot"
   ]
  },
  {
   "cell_type": "markdown",
   "metadata": {
    "slideshow": {
     "slide_type": "fragment"
    }
   },
   "source": [
    "Remarque : On a pris comme coût un coût temporel fixé par les contraintes de travail des camionneurs (qui ne doivent pas dépasser 8h de travail) en prenant également en compte la perte de temps due au temps de livraison."
   ]
  }
 ],
 "metadata": {
  "celltoolbar": "Diaporama",
  "kernelspec": {
   "display_name": "Python 3",
   "language": "python",
   "name": "python3"
  },
  "language_info": {
   "codemirror_mode": {
    "name": "ipython",
    "version": 3
   },
   "file_extension": ".py",
   "mimetype": "text/x-python",
   "name": "python",
   "nbconvert_exporter": "python",
   "pygments_lexer": "ipython3",
   "version": "3.7.3"
  }
 },
 "nbformat": 4,
 "nbformat_minor": 4
}
