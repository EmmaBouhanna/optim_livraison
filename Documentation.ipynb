{
 "cells": [
  {
   "cell_type": "markdown",
   "metadata": {},
   "source": [
    "# Projet informatique - Optimisation d'un réseau de livraison\n",
    "\n",
    "## Bou Hanna Emma, Clodion Sandra, Rossi Sophie"
   ]
  },
  {
   "cell_type": "markdown",
   "metadata": {},
   "source": [
    "## Introduction"
   ]
  },
  {
   "cell_type": "markdown",
   "metadata": {},
   "source": [
    "### Définition du cadre d'étude\n",
    "Un réseau de livraison est un système très complexe dans lequel interagissent de nombreux acteurs (clients, vendeurs, transporteurs …) et qui peut être plus ou moins étendu (échelle d’une commune, d’une ville, d’un pays …). Selon l’échelle prise en compte, les routes sont de taille différente et permettent ou pas le passage de camions: par exemple, dans les centres villes on peut imaginer une livraison par bicyclette. Ainsi, il y a différentes étapes dans le transport d’un colis qui passe par plusieurs entrepôts pour enfin être livré au client. \n",
    "\n",
    "   Dans le domaine de l'optimisation des réseaux de livraison, nous avons choisi de nous intéresser plus particulièrement au last mile delivery. Le last mile (en français, « dernier kilomètre ») correspond au dernier trajet de la marchandise vers son destinataire final (qu’il s’agisse d’un ménage, d’une entreprise ou d’un service public). Ce « dernier kilomètre » est la partie la plus coûteuse du transport de marchandises : on estime qu’il représente entre 20 et 30% du coût total de la livraison. Au-delà de l’aspect économique, la livraison du dernier kilomètre présente d’autres inconvénients majeurs, notamment un encombrement de la voirie dû à la circulation des véhicules transportant les marchandises et surtout à leur stationnement, mais aussi une pollution importante : les véhicules utilitaires légers utilisés pour les livraisons sont à l’origine de 30% des émissions de gaz à effet de serre en ville.\n",
    "\n",
    "   Par ailleurs, le secteur du e-commerce a une importance de plus en plus grande au sein des enjeux liés à la livraison du dernier kilomètre et est en très forte expansion aujourd’hui. Nous voulions, au départ nous focaliser sur l’e-commerce, mais étant donnée l’absence de données, nous travaillerons avec des colis génériques (définis essentiellement par leur volume, et par le fait d’être non périssables), qui pourront tout à fait être transposés à l’e-commerce par la suite.\n",
    "\n",
    "   Enfin, nous avons choisi de limiter notre étude à la région Île-de-France, territoire très urbain et concentrant une grande quantité d’entrepôts.\n",
    "\n",
    "   Ainsi, nous choisissons de limiter notre sujet à l’optimisation du last mile delivery en Île-de-France. L’optimisation consistera essentiellement à minimiser le temps de trajet et les délais, tout en maximisant les stocks dans les camions.\n"
   ]
  },
  {
   "cell_type": "markdown",
   "metadata": {},
   "source": [
    "## Réalisation du projet"
   ]
  },
  {
   "cell_type": "markdown",
   "metadata": {},
   "source": [
    "### Installations et Prérequis\n",
    "\n",
    "Dans le fichier $__init__.py$, changer la variable PATH en mettant la votre pour pouvoir exécuter les modules implémentés dans ce projet."
   ]
  },
  {
   "cell_type": "markdown",
   "metadata": {},
   "source": [
    "### Première Partie (cc Sandra je te laisse compléter <3)\n"
   ]
  },
  {
   "cell_type": "markdown",
   "metadata": {},
   "source": [
    "### Deuxième Partie (cc Sophie de même <3)"
   ]
  },
  {
   "cell_type": "markdown",
   "metadata": {},
   "source": [
    "### Troisième Partie : Mise en place d'un algorithme d'optimisation génétique\n",
    "\n",
    "On a choisi d'implémenter un algorithme génétique pour optimiser le réseau de livraison modélisé par le graphe créé en partie 2.\n",
    "\n",
    "#### Données nécessaires au bon fonctionnement de cet algorithme \n",
    "L'algorithme prend comme argument d'entrée les fichiers csv créés par la méthode __generate_csv__ de la classe Graphe, ainsi que la liste renvoyée par cette méthode, qui contient le nom des entrepots ainsi que leur nombre maximum de camions et le nombre de colis à livrer dans la journée. \n",
    "\n",
    "De plus, il faut avoir accès à l'attribut __garage.nb_camions__ de la classe Graphe pour avoir accès au nombre de camions disponibles en tout!\n",
    "\n",
    "Nous fixons également un coût de livraison de 10min.\n",
    "Les coûts temporels dont nous disposons étant en secondes, on va attribuer un coût par unité de temps égal à $1/3600$, de façon à avoir un coût en heures.\n",
    "\n",
    "#### Implémentation de l'algorithme (fichier optim_gen.py)\n",
    "L'algorithme que nous avons choisi d'implémenter est un algorithme dit génétique, il repose sur les processus de sélection naturelle et d'évolution d'une population par mutations et crossovers, de génération en génération. Ainsi, il est nécessaire de bien définir notre individu pour l'adapter au problème que l'on considère, et il faut définir un nombre de générations ainsi qu'une taille de population.\n",
    "\n",
    "Nous intégrons ensuite cet algorithme ainsi que d'autres fonctions auxiliaires dans une fonction qui génère des résultats sous forme de fichier csv dans le dossier __output_data__.\n",
    "\n",
    "On va chercher à optimiser le trajet de livraison des camions. Notre algorithme s'exécute à partir des données issues d'un entrepot. Il faudra donc le réexécuter pour chaque entrepot dans notre fonction __results_vrptw__.\n",
    "\n",
    "Pour expliquer le fonctionnement de la fonction __run_vrptw__ qui implémente l'algorithme génétique, nous nous plaçons alors dans un entrepot.\n"
   ]
  },
  {
   "cell_type": "markdown",
   "metadata": {},
   "source": [
    "##### Création de l'individu\n",
    "Les individus de notre population sont symbolisés par une liste ordonnée des clients à visiter, en concaténant les trajets de chaque camion partant de l'entrepot. Ainsi un individu [2,1,4,3] peut coder un trajet de la forme [[0,2,0],[0,1,4,0],[0,3,0]], (ici on considère donc 3 camions et 0 symbolise l'entrepot de référence). \n",
    "\n",
    "Cette identification n'est pas unique mais la fonction __ind2route__ du fichier __optim_gen.py__ fait en sorte de décoder l'individu en une journée de travail en maximisant les heures de travail d'un travailleur (sans dépasser 8 heures par jour) et les chargements des camions et donc en minimisant le nombre de camions utilisés.\n",
    "\n",
    "Nous faisons ici au travers de cette fonction une première optimisation pour répondre aux besoin des réseaux de livraison en minimisant la pollution et le coût de salariés pour l'entrepot, en minimisant le nombre de camions utilisés."
   ]
  },
  {
   "cell_type": "markdown",
   "metadata": {},
   "source": [
    "##### Définition du coût engendré par chaque individu\n",
    "Pour chaque individu de la population, on définit un coût correspondant au coût temporel total de l'individu, grâce aux données de coût issues de notre classe Graphe implémentée en deuxième partie. En sortie de notre fonction __evalVRPTW__, on conserve alors l'inverse de ce coût pour des raisons techniques, que l'on appelle __fitness__ et que l'on cherchera à maximiser dans notre algorithme génétique.\n",
    "\n",
    "Ce coût temporel a été choisi de façon à répondre à un besoin d'efficacité pour l'entreprise qui gère cet entrepot et également un besoin de réduction de la pollution et du temps de travail des camionneurs."
   ]
  },
  {
   "cell_type": "markdown",
   "metadata": {},
   "source": [
    "##### Etapes de l'évolution\n",
    "On définit ensuite les étapes de notre évolution : \n",
    "\n",
    "- les mutations : on considère uniquement des inversions de nucléotides et pas d'insertion ni de suppression d'un nucléotide. En effet, il faut livrer à tous les clients une unique fois dans la journée. Notre fonction __mut_inverse_indexes__ prend en argument un individu et inverse une séquence de la liste comprise *strictement* entre deux indices sélectionnés de manière aléatoire. A titre d'exemple, on peut exécuter le code ci-dessous, extrait du fichier __optim_gen__"
   ]
  },
  {
   "cell_type": "code",
   "execution_count": 50,
   "metadata": {},
   "outputs": [
    {
     "name": "stdout",
     "output_type": "stream",
     "text": [
      "avant mutation :[1, 2, 3, 4, 5, 6, 7, 8, 9]\n",
      "indices d'inversion : (7, 8)\n",
      "après mutation : ([1, 2, 3, 4, 5, 6, 7, 8, 9],)\n"
     ]
    }
   ],
   "source": [
    "import random\n",
    "def mut_inverse_indexes(individual):\n",
    "    '''\n",
    "    Step of genetic algorithm : Mutation (only by inversion, to keep the unicity of each occurence) . No insertion or deletion allowed\n",
    "\n",
    "    Input : individual (list)\n",
    "    Output : mutated individual\n",
    "    '''\n",
    "\n",
    "    start, stop = sorted(random.sample(range(len(individual)), 2))\n",
    "    print(f\"indices d'inversion : {start, stop}\")\n",
    "    individual = individual[:start+1] + individual[stop:start:-1] + individual[stop+1:]\n",
    "    return (individual, )\n",
    "print(f\"avant mutation :{[1,2,3,4,5,6,7,8,9]}\")\n",
    "print(f\"après mutation : {mut_inverse_indexes([1,2,3,4,5,6,7,8,9])}\")\n"
   ]
  },
  {
   "cell_type": "markdown",
   "metadata": {},
   "source": [
    "- les crossover : la fonction  en entrée deux individus et on crée deux individus à partir de ceux-ci, en croisant une séquence de chaque liste, dont les indices de début et de fin sont choisis de manière aléatoire grâce à la fonction __random.sample__ . Ainsi, si nos individus valaient [1,4,3,6,5,2] et [4,3,5,2,1,6] et que l'on tire au hasard l'indice 2 et 4, on crée deux nouveaux individus valant: [3,6,5,4,2,1] et [3,5,2,1,4,6]"
   ]
  },
  {
   "cell_type": "code",
   "execution_count": 55,
   "metadata": {},
   "outputs": [
    {
     "name": "stdout",
     "output_type": "stream",
     "text": [
      "avant crossover :([1, 4, 3, 6, 5, 2], [4, 3, 5, 2, 6, 1])\n",
      "les indices de début et de fin sont : (2, 5)\n",
      "après mutation : ([3, 6, 5, 2, 4, 1], [5, 2, 6, 1, 4, 3])\n"
     ]
    }
   ],
   "source": [
    "def cx_partialy_matched(ind1, ind2):\n",
    "    '''\n",
    "    Step of the genetic algorithm : crossover\n",
    "\n",
    "    Input : two individuals (list)\n",
    "    Output : two individuals that have been modified\n",
    "    '''\n",
    "    size = min(len(ind1), len(ind2))\n",
    "    try:\n",
    "        cxpoint1, cxpoint2 = sorted(random.sample(range(size), 2))\n",
    "        print(f\"les indices de début et de fin sont : {cxpoint1, cxpoint2}\")\n",
    "    except ValueError:\n",
    "        print('Error : Only one package to deliver')\n",
    "    temp1 = ind1[cxpoint1:cxpoint2+1] + ind2\n",
    "    temp2 = ind2[cxpoint1:cxpoint2+1] + ind1\n",
    "    ind1 = []\n",
    "    for gene in temp1:\n",
    "        if gene not in ind1:\n",
    "            ind1.append(gene)\n",
    "    ind2 = []\n",
    "    for gene in temp2:\n",
    "        if gene not in ind2:\n",
    "            ind2.append(gene)\n",
    "    return ind1, ind2\n",
    "\n",
    "print(f\"avant crossover :{[1,4,3,6,5,2], [4,3,5,2,6,1]}\")\n",
    "print(f\"après mutation : {cx_partialy_matched([1,4,3,6,5,2], [4,3,5,2,6,1])}\")\n"
   ]
  },
  {
   "cell_type": "markdown",
   "metadata": {},
   "source": [
    "##### Fonctionnement de l'algorithme\n",
    "\n",
    "On utilise le module __deap__ et plus précisément ses attributs __create__, __base__ et __tools__.\n",
    "A l'aide du module __create__, on impose à l'algorithme de chercher à maximiser le Fitness sur chaque génération, on crée égelament un individu affecté de son fitness.\n",
    "\n",
    "On crée ensuite une instance de Toolbox grâce au module __base__, ainsi qu'un générateur qui nous sert à générer dans un ordre aléatoire les clients que nous devons livrer. Enfin, on garde en mémoire notre individu, notre population, notre façon de sélectionner les individus (à l'aide du module __tools__ et de sa fonction __selRoulette__, notre façon d'évaluer le coût (fonction __evalVRPTW__ que nous avons codé), ainsi que notre façon de muter un individu et de croiser deux individus à l'aide de la méthode Toolbox.register de la classe base.Toolbox\n",
    "\n",
    "Enfin on itère notre algorithme sur plusieurs génération, en évaluant le coût de chaque nouvel individu de la population, et du meilleur individu de chaque génération. A la fin de l'évolution, on garde l'individu ayant le Fitness le plus élevé, soit le coût temporel le plus bas.\n",
    "Les données d'entrée de notre algorithme sont issues de la classe Graphe implémentée, qui nous fournit la demande de chaque client ainsi que les coûts temporels de voyage entre chaque points du graphe (entrepot ou client)"
   ]
  },
  {
   "cell_type": "markdown",
   "metadata": {},
   "source": [
    "#### Optimisation d'un réseau de livraison\n",
    "\n",
    "Après avoir créé notre algorithme génétique d'optimisation, il faut l'intégrer dans une fonction qui nous permet d'exporter des résultats utilisables sous forme d'un fichier csv, avec l'itinéraire de chaque camion sous forme de suite ordonnée de coordonnées GPS correspondant aux clients. En effet, jusqu'ici, on a travaillé uniquement avec des listes d'entiers correspondant à une attribution de numéro à chaque client, le nombre 0 étant affecté par défaut à l'entrepot, or dans la réalité, les données réellement exploitables sont des coordonnées GPS.\n",
    "\n",
    "##### Décodage de nombres en coordonnées GPS\n",
    "\n",
    "On a donc besoin dans un premier temps d'une fonction qui décode nos nombres en coordonnées GPS. On avait en fait utilisé l'index du dataframe d'entrée pour numéroter nos clients de manière unique pour la journée.\n",
    "Cette fonction fait tourner notre algorithme sur chaque fichier csv correspondant à un entrepot et à l'aide des colonnes longitude et latitude du fichier d'entrée, génère les fichiers csv, dont les colonnes sont les différents camions et les lignes successives représentent l'itinéraire de chaque camion (chaque point de la ligne i correspond à un tuple contenant les coordonnées GPS du client ou de l'entrepot visité en ième place.\n",
    "\n",
    "Ainsi, pour un Graphe donné, il faut exécuter cette fonction pour obtenir les résultats demandés."
   ]
  },
  {
   "cell_type": "code",
   "execution_count": null,
   "metadata": {},
   "outputs": [],
   "source": []
  }
 ],
 "metadata": {
  "kernelspec": {
   "display_name": "Python 3",
   "language": "python",
   "name": "python3"
  },
  "language_info": {
   "codemirror_mode": {
    "name": "ipython",
    "version": 3
   },
   "file_extension": ".py",
   "mimetype": "text/x-python",
   "name": "python",
   "nbconvert_exporter": "python",
   "pygments_lexer": "ipython3",
   "version": "3.7.6"
  }
 },
 "nbformat": 4,
 "nbformat_minor": 4
}
